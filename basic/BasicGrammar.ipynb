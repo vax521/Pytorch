{
 "cells": [
  {
   "cell_type": "markdown",
   "metadata": {},
   "source": [
    "# 自动求导\n"
   ]
  },
  {
   "cell_type": "code",
   "execution_count": 15,
   "metadata": {},
   "outputs": [
    {
     "name": "stdout",
     "output_type": "stream",
     "text": [
      "a.requires_grad: True\n",
      "b.requires_grad: True\n",
      "z: \n",
      " 15\n",
      "[torch.FloatTensor of size 1]\n",
      "\n",
      "dz/dx:\n",
      " 2\n",
      "[torch.FloatTensor of size 1]\n",
      "\n"
     ]
    }
   ],
   "source": [
    "import torch\n",
    "import torch.nn as nn\n",
    "from torch.autograd import Variable\n",
    "from torchvision import models\n",
    "x = Variable(torch.Tensor([3]),requires_grad=True)\n",
    "y = Variable(torch.Tensor([5]),requires_grad=True)\n",
    "a = x+y\n",
    "print('a.requires_grad:',a.requires_grad)\n",
    "b = a+z\n",
    "print('b.requires_grad:',b.requires_grad)\n",
    "\n",
    "z = 2*x+y+4\n",
    "print('z:',z.data)\n",
    "z.backward()\n",
    "print('dz/dx:{}'.format(x.grad.data))"
   ]
  },
  {
   "cell_type": "code",
   "execution_count": null,
   "metadata": {
    "collapsed": true
   },
   "outputs": [],
   "source": [
    "x = "
   ]
  },
  {
   "cell_type": "code",
   "execution_count": null,
   "metadata": {
    "collapsed": true
   },
   "outputs": [],
   "source": []
  },
  {
   "cell_type": "code",
   "execution_count": 2,
   "metadata": {},
   "outputs": [
    {
     "ename": "SyntaxError",
     "evalue": "invalid syntax (<ipython-input-2-56ec94fa7947>, line 4)",
     "output_type": "error",
     "traceback": [
      "\u001b[1;36m  File \u001b[1;32m\"<ipython-input-2-56ec94fa7947>\"\u001b[1;36m, line \u001b[1;32m4\u001b[0m\n\u001b[1;33m    from param in model.parameyers():\u001b[0m\n\u001b[1;37m                ^\u001b[0m\n\u001b[1;31mSyntaxError\u001b[0m\u001b[1;31m:\u001b[0m invalid syntax\n"
     ]
    }
   ],
   "source": [
    "# 冻结部分网络,只fine tune最后一层\n",
    "model = torchvision.models.resnet18(pretrained=True)\n",
    "\n",
    "from param in model.parameyers():\n",
    "     param.requires_grad = False\n",
    "model.fc = nn.Linear(512,100)\n",
    "\n",
    "#Optimize only the classifier\n",
    "optimizer = optim.SGD(model.fc.parameters(),lr=1e-2,momentum=0.9)\n"
   ]
  },
  {
   "cell_type": "code",
   "execution_count": null,
   "metadata": {
    "collapsed": true
   },
   "outputs": [],
   "source": [
    "\n",
    "j = Variable(torch.randn(5,5), volatile=True)\n",
    "k = Variable(torch.randn(5,5))\n",
    "m = Variable(torch.randn(5,5))\n",
    "n = k+m # k,m变量的volatile标记都为False，输出的Variable的volatile标记也为false\n",
    "print(n.volatile)\n",
    " \n",
    "#False\n",
    "o = j+k #k,m变量的volatile标记有一个True，输出的Variable的volatile为True\n",
    "print(o.volatile)"
   ]
  },
  {
   "cell_type": "markdown",
   "metadata": {},
   "source": [
    "# 自定义 Dataset 和输入流"
   ]
  },
  {
   "cell_type": "code",
   "execution_count": null,
   "metadata": {
    "collapsed": true
   },
   "outputs": [],
   "source": [
    "在输入流水线中，我们看到准备数据的代码是这么写的data = datasets.CIFAR10(“./data/”, transform=transform, train=True, download=True)。\n",
    "datasets.CIFAR10就是一个Datasets子类，data是这个类的一个实例。\n",
    "PyTorch提供了一个工具函数torch.utils.data.DataLoader。\n",
    "通过这个类，我们在准备mini-batch的时候可以多线程并行处理，这样可以加快准备数据的速度。\n",
    "Datasets就是构建这个类的实例的参数之一。"
   ]
  },
  {
   "cell_type": "markdown",
   "metadata": {},
   "source": [
    " ## 如何自定义DataSets框架"
   ]
  },
  {
   "cell_type": "code",
   "execution_count": null,
   "metadata": {
    "collapsed": true
   },
   "outputs": [],
   "source": [
    "class CustomDataSet(data.Data.Dataset): # 需要继承data.Dataset\n",
    "    def __init__(self):\n",
    "        #1.Initialize file path or list of file names\n",
    "        pass\n",
    "    def __getitem__(self,index):\n",
    "        #Read one data from file (e.g. using numpy.fromfile, PIL.Image.open).\n",
    "        #Process the data (e.g. torchvision.Transform)\n",
    "        #Return a data pair  (eg. )\n",
    "    def __len__(self):\n",
    "        # You should change 0 to the total size of your dataset.\n",
    "        return 0\n",
    "         "
   ]
  },
  {
   "cell_type": "code",
   "execution_count": null,
   "metadata": {
    "collapsed": true
   },
   "outputs": [],
   "source": [
    "class MNIST(data.Dataset):\n",
    "      def __init__(self, root, train=True, transform=None, target_transform=None, download=False):\n",
    "        self.root = root\n",
    "        self.transform = transform\n",
    "        self.target_transform = target_transform\n",
    "        self.train = train  # training set or test set\n",
    " \n",
    "        if download:\n",
    "            self.download()\n",
    " \n",
    "        if not self._check_exists():\n",
    "            raise RuntimeError('Dataset not found.' +\n",
    "                               ' You can use download=True to download it')\n",
    " \n",
    "        if self.train:\n",
    "            self.train_data, self.train_labels = torch.load(\n",
    "                os.path.join(root, self.processed_folder, self.training_file))\n",
    "        else:\n",
    "            self.test_data, self.test_labels = torch.load(os.path.join(root, self.processed_folder, self.test_file))\n",
    " \n",
    "    def __getitem__(self, index):\n",
    "        if self.train:\n",
    "            img, target = self.train_data[index], self.train_labels[index]\n",
    "        else:\n",
    "            img, target = self.test_data[index], self.test_labels[index]\n",
    " \n",
    "        # doing this so that it is consistent with all other datasets\n",
    "        # to return a PIL Image\n",
    "        img = Image.fromarray(img.numpy(), mode='L')\n",
    " \n",
    "        if self.transform is not None:\n",
    "            img = self.transform(img)\n",
    " \n",
    "        if self.target_transform is not None:\n",
    "            target = self.target_transform(target)\n",
    " \n",
    "        return img, target\n",
    " \n",
    "    def __len__(self):\n",
    "        if self.train:\n",
    "            return 60000\n",
    "        else:\n",
    "            return 10000"
   ]
  },
  {
   "cell_type": "markdown",
   "metadata": {},
   "source": [
    "# 保存和恢复模型并查看参数\n"
   ]
  },
  {
   "cell_type": "code",
   "execution_count": null,
   "metadata": {
    "collapsed": true
   },
   "outputs": [],
   "source": [
    "# 方法一 ：只保留和恢复模型中的参数\n",
    "#保存\n",
    "torch.save(the_model.state_dict(),PATH)\n",
    "#恢复\n",
    "the_model = TheModelClass(*args,**kwargs)\n",
    "the_model.load_state_dict(torch.load(PATH))"
   ]
  },
  {
   "cell_type": "code",
   "execution_count": null,
   "metadata": {
    "collapsed": true
   },
   "outputs": [],
   "source": [
    "使用这种方法，将会保存模型的参数和结构信息。\n",
    "\n",
    "保存\n",
    "torch.save(the_model, PATH)\n",
    "恢复\n",
    "the_model = torch.load(PATH)"
   ]
  },
  {
   "cell_type": "markdown",
   "metadata": {},
   "source": [
    "# 获取模型某些层的参数"
   ]
  },
  {
   "cell_type": "code",
   "execution_count": 8,
   "metadata": {},
   "outputs": [
    {
     "name": "stdout",
     "output_type": "stream",
     "text": [
      "Sequential(\n",
      "  (conv1): Conv2d (1, 20, kernel_size=(5, 5), stride=(1, 1))\n",
      "  (relu1): ReLU()\n",
      "  (conv2): Conv2d (20, 64, kernel_size=(5, 5), stride=(1, 1))\n",
      "  (relu2): ReLU()\n",
      ")\n"
     ]
    }
   ],
   "source": [
    "from collections import OrderedDict\n",
    "model = nn.Sequential(\n",
    "  OrderedDict([\n",
    "                  ('conv1', nn.Conv2d(1,20,5)),\n",
    "                  ('relu1', nn.ReLU()),\n",
    "                  ('conv2', nn.Conv2d(20,64,5)),\n",
    "                  ('relu2', nn.ReLU())\n",
    "                ]))\n",
    "print(model)"
   ]
  },
  {
   "cell_type": "code",
   "execution_count": 9,
   "metadata": {},
   "outputs": [
    {
     "name": "stdout",
     "output_type": "stream",
     "text": [
      "conv1.weight\n",
      "conv1.bias\n",
      "conv2.weight\n",
      "conv2.bias\n",
      "\n",
      "(0 ,0 ,.,.) = \n",
      " -0.1105  0.0009  0.1988  0.1475 -0.1883\n",
      " -0.1840  0.0199 -0.0836 -0.1885  0.0613\n",
      " -0.1801 -0.1566  0.0467  0.0208  0.1637\n",
      " -0.0894 -0.1378  0.1307  0.0099 -0.0188\n",
      " -0.1206 -0.1422  0.1262  0.0902  0.1698\n",
      "\n",
      "(1 ,0 ,.,.) = \n",
      "  0.1467  0.0193  0.1768 -0.1133 -0.0211\n",
      "  0.0293 -0.1089  0.1337 -0.1058 -0.0195\n",
      " -0.0919 -0.0139  0.0615 -0.1580  0.0229\n",
      "  0.1355 -0.1816 -0.0501  0.0507  0.1734\n",
      "  0.0392 -0.0055 -0.1916 -0.0774 -0.0697\n",
      "\n",
      "(2 ,0 ,.,.) = \n",
      "  0.1685  0.1635 -0.0603 -0.0741  0.1224\n",
      "  0.1761  0.1706  0.1626  0.0103 -0.0577\n",
      "  0.1881  0.1258  0.1454  0.0687 -0.0548\n",
      "  0.1328  0.1158  0.0935  0.0280 -0.1618\n",
      "  0.0534  0.0867  0.1006  0.0194  0.1661\n",
      "\n",
      "(3 ,0 ,.,.) = \n",
      " -0.1584  0.0699  0.1072 -0.1848 -0.0200\n",
      "  0.0647  0.1024 -0.1003  0.1211 -0.1114\n",
      " -0.1187 -0.0267  0.1995 -0.1793 -0.1412\n",
      " -0.0534  0.0324 -0.0229  0.0508 -0.1043\n",
      "  0.0951  0.1986 -0.1132 -0.0144 -0.1044\n",
      "\n",
      "(4 ,0 ,.,.) = \n",
      "  0.1490  0.0049  0.0218 -0.1682  0.0030\n",
      "  0.1390  0.0602 -0.0330 -0.0124 -0.1923\n",
      "  0.0810  0.1374  0.1844 -0.1601 -0.1978\n",
      " -0.0725  0.0719  0.0861 -0.0769 -0.0927\n",
      " -0.0623 -0.1953 -0.1484  0.0796 -0.1927\n",
      "\n",
      "(5 ,0 ,.,.) = \n",
      "  0.0930  0.0784  0.0033  0.1473  0.1528\n",
      "  0.0115 -0.1366  0.1986 -0.1141 -0.1227\n",
      "  0.1361  0.1113 -0.1785 -0.1719 -0.1995\n",
      " -0.0933 -0.0233 -0.1663 -0.0627  0.1309\n",
      "  0.0879  0.1790  0.1467 -0.1758 -0.0353\n",
      "\n",
      "(6 ,0 ,.,.) = \n",
      "  0.1172  0.1925  0.1258  0.0252 -0.1713\n",
      "  0.0896 -0.0713  0.1309 -0.0225 -0.0422\n",
      " -0.1401 -0.0112 -0.1666  0.0212 -0.0969\n",
      "  0.0164  0.1623 -0.0891 -0.0330  0.1622\n",
      "  0.0328 -0.0840 -0.1400  0.0568 -0.1598\n",
      "\n",
      "(7 ,0 ,.,.) = \n",
      "  0.1592 -0.0032 -0.0336  0.0246  0.1090\n",
      "  0.0113  0.0434  0.0713  0.0281  0.1786\n",
      " -0.1562 -0.0919  0.1972 -0.1280  0.1464\n",
      "  0.0189  0.0290 -0.1129  0.1160 -0.1768\n",
      " -0.1777 -0.1539  0.0207  0.0245  0.0389\n",
      "\n",
      "(8 ,0 ,.,.) = \n",
      "  0.0390  0.1105  0.1409  0.0683 -0.0146\n",
      " -0.0507  0.0624  0.1367  0.0820 -0.1783\n",
      "  0.0975  0.1494 -0.0819 -0.1939 -0.0025\n",
      " -0.1233 -0.1775  0.1580 -0.0968 -0.0011\n",
      "  0.1537  0.1385  0.1712 -0.0595  0.1923\n",
      "\n",
      "(9 ,0 ,.,.) = \n",
      " -0.1331 -0.1336 -0.1249  0.1481 -0.0949\n",
      " -0.0309  0.1092  0.1245  0.1865  0.1495\n",
      "  0.1212 -0.1608  0.1599 -0.0731 -0.1328\n",
      " -0.1436  0.1306  0.1452  0.1446 -0.0816\n",
      "  0.0920 -0.1295  0.1235 -0.1893 -0.1016\n",
      "\n",
      "(10,0 ,.,.) = \n",
      " -0.0904 -0.0863  0.1038 -0.1253 -0.1764\n",
      " -0.0271 -0.0372 -0.1007  0.0752  0.1461\n",
      " -0.0016 -0.1568  0.1481  0.1815 -0.0032\n",
      "  0.0878 -0.0194  0.0961 -0.1130  0.0094\n",
      " -0.0157  0.0855  0.1447  0.1104  0.1680\n",
      "\n",
      "(11,0 ,.,.) = \n",
      "  0.0924  0.1922 -0.0869  0.0550 -0.1279\n",
      "  0.1978  0.0207 -0.1555  0.1841  0.1867\n",
      "  0.0788 -0.0870  0.1646 -0.0092 -0.0215\n",
      " -0.1411 -0.0524  0.1403 -0.0608 -0.0055\n",
      "  0.1843 -0.0411  0.0655 -0.1363 -0.0809\n",
      "\n",
      "(12,0 ,.,.) = \n",
      "  0.0668 -0.0670  0.0731 -0.0722 -0.1347\n",
      " -0.1056 -0.1764  0.1065  0.1497  0.1732\n",
      " -0.0559 -0.0371  0.0299 -0.0487  0.1497\n",
      " -0.1106  0.0246 -0.1509 -0.0188  0.0939\n",
      " -0.1945  0.0461  0.0559 -0.0159  0.0890\n",
      "\n",
      "(13,0 ,.,.) = \n",
      " -0.0424  0.1674 -0.1802  0.0549 -0.0123\n",
      " -0.1277 -0.0273 -0.0821  0.1481  0.1932\n",
      " -0.0313  0.0277  0.1128 -0.0376  0.0919\n",
      " -0.0615 -0.1619 -0.0747  0.1405 -0.0423\n",
      "  0.1600 -0.0957 -0.0578  0.1455  0.0600\n",
      "\n",
      "(14,0 ,.,.) = \n",
      " -0.1064  0.1870  0.1540  0.0380  0.0107\n",
      "  0.0315 -0.0010 -0.1501 -0.1087 -0.0709\n",
      " -0.0756 -0.1056  0.1607  0.0658  0.0592\n",
      "  0.1008  0.1742 -0.0372  0.1158  0.0967\n",
      "  0.1868 -0.0595 -0.1798 -0.0007 -0.1968\n",
      "\n",
      "(15,0 ,.,.) = \n",
      "  0.0852  0.1824  0.0064  0.1244 -0.0965\n",
      "  0.0702 -0.1156 -0.0334  0.1053 -0.0226\n",
      " -0.0941 -0.1607 -0.1453 -0.0236 -0.0111\n",
      " -0.0717  0.1422 -0.0835  0.0207  0.1023\n",
      " -0.1676 -0.0643 -0.1293 -0.1538 -0.0016\n",
      "\n",
      "(16,0 ,.,.) = \n",
      " -0.1384 -0.1144  0.1258  0.1226  0.1387\n",
      " -0.1023  0.1267  0.1691  0.0265  0.1736\n",
      "  0.1322  0.0185  0.0073  0.0997 -0.0820\n",
      " -0.0196  0.1531 -0.1454 -0.0766 -0.1687\n",
      "  0.0080  0.1094  0.0455  0.1175  0.1421\n",
      "\n",
      "(17,0 ,.,.) = \n",
      "  0.1269  0.0074 -0.0108  0.0032  0.1192\n",
      "  0.0139 -0.0657  0.0847 -0.1889  0.1194\n",
      "  0.1062  0.0085  0.0082 -0.0349  0.1927\n",
      "  0.0502  0.1139  0.0839  0.1939  0.0042\n",
      "  0.0948 -0.1557 -0.0074 -0.0991  0.0312\n",
      "\n",
      "(18,0 ,.,.) = \n",
      "  0.0755  0.0671  0.0795 -0.0693 -0.0041\n",
      " -0.1745 -0.1887 -0.0809  0.0296 -0.0818\n",
      " -0.0104 -0.1685 -0.1554 -0.1890 -0.1375\n",
      "  0.1244 -0.1086 -0.1000  0.0359  0.0311\n",
      " -0.0054  0.1258  0.0583  0.0800 -0.0246\n",
      "\n",
      "(19,0 ,.,.) = \n",
      " -0.0009 -0.0365 -0.1662  0.0900  0.1937\n",
      "  0.0089  0.0362 -0.0495 -0.0689  0.0689\n",
      " -0.1901 -0.0467  0.0527  0.0615 -0.0998\n",
      "  0.0008  0.1203  0.1399  0.1147 -0.0577\n",
      "  0.1459 -0.0333 -0.0206  0.0628  0.0045\n",
      "[torch.FloatTensor of size 20x1x5x5]\n",
      "\n",
      "\n",
      "-0.1095\n",
      "-0.1128\n",
      "-0.0422\n",
      " 0.0299\n",
      " 0.0640\n",
      "-0.1568\n",
      " 0.1146\n",
      "-0.0652\n",
      "-0.1898\n",
      " 0.1854\n",
      " 0.0677\n",
      " 0.1599\n",
      " 0.1903\n",
      " 0.1371\n",
      "-0.0712\n",
      "-0.1013\n",
      "-0.1257\n",
      " 0.0537\n",
      " 0.1493\n",
      " 0.0060\n",
      "[torch.FloatTensor of size 20]\n",
      "\n"
     ]
    }
   ],
   "source": [
    "params = model.state_dict()\n",
    "for k,v in params.items():\n",
    "    print(k)\n",
    "print(params['conv1.weight'])\n",
    "print(params['conv1.bias'])"
   ]
  },
  {
   "cell_type": "markdown",
   "metadata": {},
   "source": [
    "# 学习率衰减"
   ]
  },
  {
   "cell_type": "code",
   "execution_count": null,
   "metadata": {
    "collapsed": true
   },
   "outputs": [],
   "source": [
    "很多时候我们要对学习率（learning rate）进行衰减，下面的代码示范了如何每30个epoch按10%的速率衰减：\n",
    "\n",
    "def adjust_learning_rate(optimizer, epoch):\n",
    "    \"\"\"Sets the learning rate to the initial LR decayed by 10 every 30 epochs\"\"\"\n",
    "    lr = args.lr * (0.1 ** (epoch // 30))\n",
    "    for param_group in optimizer.param_groups:\n",
    "        param_group['lr'] = lr\n",
    "\n",
    "def adjust_learning_rate(optimizer, epoch):\n",
    "    \"\"\"Sets the learning rate to the initial LR decayed by 10 every 30 epochs\"\"\"\n",
    "    lr = args.lr * (0.1 ** (epoch // 30))\n",
    "    for param_group in optimizer.param_groups:\n",
    "        param_group['lr'] = lr\n",
    "什么是param_groups?\n",
    "optimizer通过param_group来管理参数组.param_group中保存了参数组及其对应的学习率,动量等等.所以我们可以通过更改param_group[‘lr’]的值来更改对应参数组的学习率。\n",
    "\n",
    "# 有两个`param_group`即,len(optim.param_groups)==2\n",
    "optim.SGD([\n",
    "                {'params': model.base.parameters()},\n",
    "                {'params': model.classifier.parameters(), 'lr': 1e-3}\n",
    "            ], lr=1e-2, momentum=0.9)\n",
    "\n",
    "#一个参数组\n",
    "optim.SGD(model.parameters(), lr=1e-2, momentum=.9)\n",
    "\n",
    "# 有两个`param_group`即,len(optim.param_groups)==2\n",
    "optim.SGD([\n",
    "                {'params': model.base.parameters()},\n",
    "                {'params': model.classifier.parameters(), 'lr': 1e-3}\n",
    "            ], lr=1e-2, momentum=0.9)\n",
    " \n",
    "#一个参数组\n",
    "optim.SGD(model.parameters(), lr=1e-2, momentum=.9)"
   ]
  },
  {
   "cell_type": "code",
   "execution_count": null,
   "metadata": {
    "collapsed": true
   },
   "outputs": [],
   "source": []
  },
  {
   "cell_type": "code",
   "execution_count": null,
   "metadata": {
    "collapsed": true
   },
   "outputs": [],
   "source": []
  },
  {
   "cell_type": "code",
   "execution_count": null,
   "metadata": {
    "collapsed": true
   },
   "outputs": [],
   "source": []
  },
  {
   "cell_type": "code",
   "execution_count": null,
   "metadata": {
    "collapsed": true
   },
   "outputs": [],
   "source": []
  },
  {
   "cell_type": "code",
   "execution_count": null,
   "metadata": {
    "collapsed": true
   },
   "outputs": [],
   "source": []
  },
  {
   "cell_type": "code",
   "execution_count": null,
   "metadata": {
    "collapsed": true
   },
   "outputs": [],
   "source": []
  },
  {
   "cell_type": "code",
   "execution_count": null,
   "metadata": {
    "collapsed": true
   },
   "outputs": [],
   "source": []
  },
  {
   "cell_type": "code",
   "execution_count": null,
   "metadata": {
    "collapsed": true
   },
   "outputs": [],
   "source": []
  },
  {
   "cell_type": "code",
   "execution_count": null,
   "metadata": {
    "collapsed": true
   },
   "outputs": [],
   "source": []
  },
  {
   "cell_type": "code",
   "execution_count": null,
   "metadata": {
    "collapsed": true
   },
   "outputs": [],
   "source": []
  },
  {
   "cell_type": "code",
   "execution_count": null,
   "metadata": {
    "collapsed": true
   },
   "outputs": [],
   "source": []
  },
  {
   "cell_type": "code",
   "execution_count": null,
   "metadata": {
    "collapsed": true
   },
   "outputs": [],
   "source": []
  },
  {
   "cell_type": "code",
   "execution_count": null,
   "metadata": {
    "collapsed": true
   },
   "outputs": [],
   "source": []
  },
  {
   "cell_type": "code",
   "execution_count": null,
   "metadata": {
    "collapsed": true
   },
   "outputs": [],
   "source": []
  },
  {
   "cell_type": "code",
   "execution_count": null,
   "metadata": {
    "collapsed": true
   },
   "outputs": [],
   "source": []
  },
  {
   "cell_type": "code",
   "execution_count": null,
   "metadata": {
    "collapsed": true
   },
   "outputs": [],
   "source": []
  }
 ],
 "metadata": {
  "kernelspec": {
   "display_name": "Python 3",
   "language": "python",
   "name": "python3"
  },
  "language_info": {
   "codemirror_mode": {
    "name": "ipython",
    "version": 3
   },
   "file_extension": ".py",
   "mimetype": "text/x-python",
   "name": "python",
   "nbconvert_exporter": "python",
   "pygments_lexer": "ipython3",
   "version": "3.6.2"
  }
 },
 "nbformat": 4,
 "nbformat_minor": 2
}
